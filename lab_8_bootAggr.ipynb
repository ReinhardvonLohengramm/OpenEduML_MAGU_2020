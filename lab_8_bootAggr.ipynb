{
 "cells": [
  {
   "cell_type": "markdown",
   "metadata": {
    "colab_type": "text",
    "id": "wP103Mzpjnge"
   },
   "source": [
    "1. Загрузите данные load_wine из sklearn.datasets. Из обучающей части исключите объекты класса 2. Обучите случайный лес, задав только гиперпараметр `n_estimators = 100`. Оцените важность признаков. Укажите название двух наиболее важных признаков."
   ]
  },
  {
   "cell_type": "code",
   "execution_count": 5,
   "metadata": {
    "colab": {},
    "colab_type": "code",
    "id": "ksz6uSlzjdXD"
   },
   "outputs": [],
   "source": [
    "import numpy as np\n",
    "import pandas as pd\n",
    "\n",
    "from sklearn.datasets import load_wine\n",
    "wine = load_wine()"
   ]
  },
  {
   "cell_type": "code",
   "execution_count": 26,
   "metadata": {},
   "outputs": [
    {
     "name": "stdout",
     "output_type": "stream",
     "text": [
      "standart shape: (178, 14)\n",
      "dropped shape: (130, 14)\n"
     ]
    }
   ],
   "source": [
    "df = pd.DataFrame(data= np.c_[wine['data'], wine['target']],\n",
    "                     columns = wine['feature_names']+['target'])\n",
    "print(\"standart shape:\", df.shape)\n",
    "\n",
    "df = df.drop(df[df['target']==2].index)\n",
    "print(\"dropped shape:\", df.shape)"
   ]
  },
  {
   "cell_type": "code",
   "execution_count": 27,
   "metadata": {},
   "outputs": [],
   "source": [
    "from sklearn.ensemble import RandomForestRegressor"
   ]
  },
  {
   "cell_type": "code",
   "execution_count": 28,
   "metadata": {},
   "outputs": [
    {
     "data": {
      "text/plain": [
       "RandomForestRegressor(bootstrap=True, ccp_alpha=0.0, criterion='mse',\n",
       "                      max_depth=None, max_features='auto', max_leaf_nodes=None,\n",
       "                      max_samples=None, min_impurity_decrease=0.0,\n",
       "                      min_impurity_split=None, min_samples_leaf=1,\n",
       "                      min_samples_split=2, min_weight_fraction_leaf=0.0,\n",
       "                      n_estimators=100, n_jobs=None, oob_score=False,\n",
       "                      random_state=None, verbose=0, warm_start=False)"
      ]
     },
     "execution_count": 28,
     "metadata": {},
     "output_type": "execute_result"
    }
   ],
   "source": [
    "X = df.drop(['target'], axis=1)\n",
    "y = df['target']\n",
    "clas = RandomForestRegressor(n_estimators=100)\n",
    "clas.fit(X, y)\n",
    "#№1-2 = proline_alcohol"
   ]
  },
  {
   "cell_type": "code",
   "execution_count": 29,
   "metadata": {},
   "outputs": [
    {
     "name": "stdout",
     "output_type": "stream",
     "text": [
      "proline\n",
      "alcohol\n"
     ]
    }
   ],
   "source": [
    "importances = clas.feature_importances_\n",
    "print(df.columns.tolist()[importances.argmax()])\n",
    "importances = np.delete(importances, importances.argmax())\n",
    "print(df.columns.tolist()[importances.argmax()])"
   ]
  },
  {
   "cell_type": "markdown",
   "metadata": {
    "colab_type": "text",
    "id": "V3_T1dkjkHtg"
   },
   "source": [
    "2. Загрузите данные load_wine из sklearn.datasets. Из обучающей части исключите объекты класса 2. Отмасштабируйте признаки, используя класс StandardScaler с гиперпараметрами по умолчанию. Обучите случайный лес, задав только гиперпараметр `n_estimators = 100`. Оцените важность признаков. Укажите название двух наиболее важных признаков."
   ]
  },
  {
   "cell_type": "code",
   "execution_count": 30,
   "metadata": {
    "colab": {},
    "colab_type": "code",
    "id": "0yQfA9lUkOLg"
   },
   "outputs": [],
   "source": [
    "from sklearn.preprocessing import StandardScaler"
   ]
  },
  {
   "cell_type": "code",
   "execution_count": 31,
   "metadata": {},
   "outputs": [
    {
     "data": {
      "text/plain": [
       "StandardScaler(copy = True, with_mean = True, with_std = True)"
      ]
     },
     "execution_count": 31,
     "metadata": {},
     "output_type": "execute_result"
    }
   ],
   "source": [
    "scaler = StandardScaler()\n",
    "scaler.fit(df.drop(['target'], axis=1))"
   ]
  },
  {
   "cell_type": "code",
   "execution_count": 32,
   "metadata": {},
   "outputs": [
    {
     "name": "stdout",
     "output_type": "stream",
     "text": [
      "proline\n",
      "alcohol\n"
     ]
    }
   ],
   "source": [
    "#масштабированеи\n",
    "X = scaler.transform(df.drop(['target'], axis=1))\n",
    
    "y = df['target']\n",
    "\n",
    "clas_scaled = RandomForestRegressor(n_estimators = 100)\n",
    "clas_scaled.fit(X, y)\n",
    "\n",
    "importances = clas_scaled.feature_importances_\n",
    "print(df.columns.tolist()[importances.argmax()])\n",
    "importances = np.delete(importances, importances.argmax())\n",
    "print(df.columns.tolist()[importances.argmax()])"
   ]
  },
  {
   "cell_type": "markdown",
   "metadata": {
    "colab_type": "text",
    "id": "30upVFxqjtII"
   },
   "source": [
    "Ниже приведена неполная реализация класса Bagging который имеет методы `fit` для обучения бэггинга над `DecisionTreeRegressor` и метод `predict` для предсказания. Допишите необходимый код, чтобы реализовать бэггинг."
   ]
  },
  {
   "cell_type": "markdown",
   "metadata": {
    "colab_type": "text",
    "id": "7hLyrAJW2ntE"
   },
   "source": [
    "используемы переменные в коде:\n",
    "- `self.n_estimators`, `n_estimators` - число используемых деревьев\n",
    "- `self.regressors` - список объектов класса `DecisionTreeRegressor`, к которым уже был применён метод `fit`\n",
    "Данный список необъодимо заполнить в методе `fit` и использовать для предсказания в методе `predict`\n",
    "- `ind`-  выбранные индексы объектов при бутстрапе\n",
    "\n",
    "при создании объекта класса `DecisionTreeRegressor` зафиксируйте  \n",
    "`random_state=0`"
   ]
  },
  {
   "cell_type": "code",
   "execution_count": 91,
   "metadata": {
    "colab": {},
    "colab_type": "code",
    "id": "q6jU2AoCkmZQ"
   },
   "outputs": [],
   "source": [
    "from sklearn.tree import DecisionTreeRegressor\n",
    "\n",
    "class Bagging():   \n",
    "    def __init__(self, n_estimators=10):\n",
    "        self.n_estimators = n_estimators\n",
    "        self.regressors = []\n",
    "    \n",
    "    \n",
    "    def fit(self, x_train, y_train):\n",
    "        for i in range(self.n_estimators):\n",
    "            np.random.seed(i)\n",
    "            ind = np.random.choice(np.arange(x_train.shape[0]), size = x_train.shape[0])\n",
    "            self.regressors.append(DecisionTreeRegressor(random_state=0).fit(x_train.loc[ind], y_train.loc[ind]))\n",
    "        \n",
    "        \n",
    "    def predict(self, x_test):\n",
    
    "        res = np.zeros(x_test.shape[0])\n",
    "        for clf in self.regressors:\n",
    "            res += clf.predict(x_test)\n",
    "        return res/self.n_estimators"
   ]
  },
  {
   "cell_type": "markdown",
   "metadata": {
    "colab_type": "text",
    "id": "3d3O4PEdkgWL"
   },
   "source": [
    "Загрузите данные приложенные к заданию"
   ]
  },
  {
   "cell_type": "code",
   "execution_count": 63,
   "metadata": {
    "colab": {},
    "colab_type": "code",
    "id": "WGAZLuOwkcTA"
   },
   "outputs": [],
   "source": [
    "# ==\n",
    "# import pandas as pd\n",
    "# from google.colab import files\n",
    "# uploder = files.upload()"
   ]
  },
  {
   "cell_type": "code",
   "execution_count": 64,
   "metadata": {
    "colab": {},
    "colab_type": "code",
    "id": "cOiJJuiZw-2Q"
   },
   "outputs": [],
   "source": [
    "Data = pd.read_csv('data.csv', header=None)"
   ]
  },
  {
   "cell_type": "markdown",
   "metadata": {
    "colab_type": "text",
    "id": "3nqAF3xSxINs"
   },
   "source": [
    "Положим матрицу объекты-признаки в переменную `X`, а ответы в переменную `y`"
   ]
  },
  {
   "cell_type": "code",
   "execution_count": 65,
   "metadata": {
    "colab": {},
    "colab_type": "code",
    "id": "Gme29o-QxXpW"
   },
   "outputs": [],
   "source": [
    "X, y = Data.iloc[:, :100], Data.iloc[:, 100]"
   ]
  },
  {
   "cell_type": "markdown",
   "metadata": {
    "colab_type": "text",
    "id": "Z9Vzjd9uk1rc"
   },
   "source": [
    "\n",
    "Положим первые 6000 объектов в обучающую часть, остальные объекты в тестовую часть"
   ]
  },
  {
   "cell_type": "code",
   "execution_count": 66,
   "metadata": {
    "colab": {},
    "colab_type": "code",
    "id": "EgUzGnlvk2st"
   },
   "outputs": [],
   "source": [
    "x_train, y_train = X[:6000], y[:6000]\n",
    "x_test, y_test = X[6000:], y[6000:]"
   ]
  },
  {
   "cell_type": "markdown",
   "metadata": {
    "colab_type": "text",
    "id": "aU9wrsEQk9BU"
   },
   "source": [
    "3. Обучите бэггинг на 1 дереве. Оцените качество по метрике MSE на тестовой части. Ответ разделите на 1000 и округлите до целой части по математичестким правилам округления."
   ]
  },
  {
   "cell_type": "code",
   "execution_count": 67,
   "metadata": {
    "colab": {},
    "colab_type": "code",
    "id": "lx5XJC3Sk8NS"
   },
   "outputs": [],
   "source": [
    "test1 = Bagging(1)\n",
    "test1.fit(x_train, y_train)"
   ]
  },
  {
   "cell_type": "code",
   "execution_count": 69,
   "metadata": {},
   "outputs": [
    {
     "data": {
      "text/plain": [
       "33.0"
      ]
     },
     "execution_count": 69,
     "metadata": {},
     "output_type": "execute_result"
    }
   ],
   "source": [
    "from sklearn.metrics import mean_squared_error\n",
    "round(mean_squared_error(y_test, test1.predict(x_test))/1000)"
   ]
  },
  {
   "cell_type": "markdown",
   "metadata": {
    "colab_type": "text",
    "id": "XRmiSEn8lEju"
   },
   "source": [
    "4. Обучите бэггинг на 5 деревьях. Оцените качество по метрике MSE на тестовой части. Ответ разделите на 1000 и округлите до целой части по математичестким правилам округления."
   ]
  },
  {
   "cell_type": "code",
   "execution_count": 92,
   "metadata": {
    "colab": {},
    "colab_type": "code",
    "id": "4gOA8WLJlPuO"
   },
   "outputs": [
    {
     "data": {
      "text/plain": [
       "15.0"
      ]
     },
     "execution_count": 92,
     "metadata": {},
     "output_type": "execute_result"
    }
   ],
   "source": [
    "test2 = Bagging(5)\n",
    "test2.fit(x_train, y_train)\n",
    "round(mean_squared_error(y_test, test2.predict(x_test))/1000)"
   ]
  },
  {
   "cell_type": "markdown",
   "metadata": {
    "colab_type": "text",
    "id": "QzXNbEBblQgn"
   },
   "source": [
    "5. Обучите бэггинг на 100 деревьях. Оцените качество по метрике MSE на тестовой части. В ответе укажите целую часть."
   ]
  },
  {
   "cell_type": "code",
   "execution_count": 93,
   "metadata": {
    "colab": {},
    "colab_type": "code",
    "id": "B3zKondflUpQ"
   },
   "outputs": [
    {
     "data": {
      "text/plain": [
       "11.0"
      ]
     },
     "execution_count": 93,
     "metadata": {},
     "output_type": "execute_result"
    }
   ],
   "source": [
    "test3 = Bagging(100)\n",
    "test3.fit(x_train, y_train)\n",
    "round(mean_squared_error(y_test, test3.predict(x_test))/1000)"
   ]
  },
  {
   "cell_type": "markdown",
   "metadata": {
    "colab_type": "text",
    "id": "l135160OeQc1"
   },
   "source": [
    "6. Обучите на этих же данных случайный лес, используйте гиперпараметр `n_estimators = 1`, зафиксируйте  \n",
    "`random_state=0`. Оцените качество по метрике MSE на тестовой части. В ответе укажите целую часть."
   ]
  },
  {
   "cell_type": "code",
   "execution_count": 87,
   "metadata": {
    "colab": {},
    "colab_type": "code",
    "id": "EuQorK1ald7U"
   },
   "outputs": [
    {
     "data": {
      "text/plain": [
       "35.0"
      ]
     },
     "execution_count": 87,
     "metadata": {},
     "output_type": "execute_result"
    }
   ],
   "source": [
    "rfregr1 = RandomForestRegressor(n_estimators=1, random_state=0)\n",
    "rfregr1.fit(x_train, y_train)\n",
    "round(mean_squared_error(y_test, rfregr1.predict(x_test))/1000)"
   ]
  },
  {
   "cell_type": "markdown",
   "metadata": {
    "colab_type": "text",
    "id": "Uu-4AVFSl9xJ"
   },
   "source": [
    "8. Обучите на этих же данных случайный лес, используйте гиперпараметр `n_estimators = 5`, зафиксируйте  \n",
    "`random_state=0`. Оцените качество по метрике MSE на тестовой части. В ответе укажите целую часть."
   ]
  },
  {
   "cell_type": "code",
   "execution_count": 89,
   "metadata": {
    "colab": {},
    "colab_type": "code",
    "id": "o03d3MNNl-5Z"
   },
   "outputs": [
    {
     "data": {
      "text/plain": [
       "15.0"
      ]
     },
     "execution_count": 89,
     "metadata": {},
     "output_type": "execute_result"
    }
   ],
   "source": [
    "rfregr5 = RandomForestRegressor(n_estimators=5, random_state=0)\n",
    "rfregr5.fit(x_train, y_train)\n",
    "round(mean_squared_error(y_test, rfregr5.predict(x_test))/1000)"
   ]
  },
  {
   "cell_type": "markdown",
   "metadata": {
    "colab_type": "text",
    "id": "uVvI1KOvmCV1"
   },
   "source": [
    "9. Обучите на этих же данных случайный лес, используйте гиперпараметр `n_estimators = 100`, зафиксируйте  \n",
    "`random_state=0`. Оцените качество по метрике MSE на тестовой части. В ответе укажите целую часть."
   ]
  },
  {
   "cell_type": "code",
   "execution_count": 90,
   "metadata": {
    "colab": {},
    "colab_type": "code",
    "id": "fWVCBsSmmEzi"
   },
   "outputs": [
    {
     "data": {
      "text/plain": [
       "11.0"
      ]
     },
     "execution_count": 90,
     "metadata": {},
     "output_type": "execute_result"
    }
   ],
   "source": [
    "rfregr100 = RandomForestRegressor(n_estimators = 100, random_state = 0)\n",
    "rfregr100.fit(x_train, y_train)\n",
    "round(mean_squared_error(y_test, rfregr100.predict(x_test))/1000)"
   ]
  },
  {
   "cell_type": "markdown",
   "metadata": {
    "colab_type": "text",
    "id": "TuC8uKXxmTAR"
   },
   "source": [
    "10. Изучите документацию и разберитесь как посчитать Out-of-bag ошибку в RandomForestRegressor. Обучите RandomForestRegressor с гиперпараметром n_estimators=100 на обучающей части, зафиксируйте  \n",
    "`random_state = 0`. Найдите Out-of-bag ошибку алгоритма. Ответ округлите до сотых."
   ]
  },
  {
   "cell_type": "code",
   "execution_count": 84,
   "metadata": {
    "colab": {},
    "colab_type": "code",
    "id": "6tj8UppYmUNH"
   },
   "outputs": [
    {
     "data": {
      "text/plain": [
       "0.75"
      ]
     },
     "execution_count": 84,
     "metadata": {},
     "output_type": "execute_result"
    }
   ],
   "source": [
    "rfr_out_of_bag = RandomForestRegressor(n_estimators = 100, random_state = 0, oob_score = True)\n",
    "round(rfr_out_of_bag.fit(x_train, y_train).oob_score_, 2)"
   ]
  },
  {
   "cell_type": "code",
   "execution_count": null,
   "metadata": {},
   "outputs": [],
   "source": []
  }
 ],
 "metadata": {
  "colab": {
   "collapsed_sections": [],
   "name": "Copy of Task_8.ipynb",
   "provenance": []
  },
  "kernelspec": {
   "display_name": "Python 3",
   "language": "python",
   "name": "python3"
  },
  "language_info": {
   "codemirror_mode": {
    "name": "ipython",
    "version": 3
   },
   "file_extension": ".py",
   "mimetype": "text/x-python",
   "name": "python",
   "nbconvert_exporter": "python",
   "pygments_lexer": "ipython3",
   "version": "3.6.3"
  }
 },
 "nbformat": 4,
 "nbformat_minor": 1
}
