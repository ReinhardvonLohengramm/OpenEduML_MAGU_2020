{
 "cells": [
  {
   "cell_type": "markdown",
   "metadata": {
    "colab_type": "text",
    "id": "XDorr4PvB4oP"
   },
   "source": [
    "## Домашнее задание 9\n",
    "### Градиентный бустинг\n",
    "\n",
    "В данном домашнем задании мы изучим применение градиентного бустинга для решения реальных задач.\n",
    "  \n",
    "Мы будем использовать данные об аренде квартир сервиса Яндекс.Недвижимость: по информации из объявления предсказывать время его экспозиции на сервисе.  \n",
    "\n",
    "Метрикой качества для в данном задании является средняя абсолютная ошибка, MAE."
   ]
  },
  {
   "cell_type": "code",
   "execution_count": 0,
   "metadata": {
    "colab": {},
    "colab_type": "code",
    "id": "XVVUBuQYtVvr"
   },
   "outputs": [],
   "source": [
    "! wget https://www.dropbox.com/s/psutl0zafq50828/data.tsv > ./data.tsv"
   ]
  },
  {
   "cell_type": "code",
   "execution_count": 0,
   "metadata": {
    "colab": {},
    "colab_type": "code",
    "id": "I2Tb5a7JDzw8"
   },
   "outputs": [],
   "source": [
    "! pip install catboost==0.22\n",
    "! pip install lightgbm==2.3.1"
   ]
  },
  {
   "cell_type": "code",
   "execution_count": 3,
   "metadata": {
    "colab": {},
    "colab_type": "code",
    "id": "wfHAGNgnB4oQ"
   },
   "outputs": [],
   "source": [
    "import pandas as pd\n",
    "import catboost\n",
    "import lightgbm\n",
    "from sklearn.model_selection import train_test_split\n",
    "from sklearn.metrics import mean_absolute_error\n",
    "\n",
    "data = pd.read_csv('./data.tsv', sep='\\t')\n",
    
    "num_features = ['agent_fee', 'floor', 'floors_total', 'kitchen_area', 'living_area', 'price', 'rooms_offered', 'total_area', 'total_images']\n",
    
    "cat_features = ['balcony', 'building_type', 'month', 'renovation', 'studio']\n",
    "\n",
    "X_train, X_test, y_train, y_test = train_test_split(data[num_features+cat_features], data['exposition_time'], test_size = 0.3, shuffle = False)"
   ]
  },
  {
   "cell_type": "markdown",
   "metadata": {
    "colab_type": "text",
    "id": "mqBxGmIpB4oV"
   },
   "source": [
    "__Задание 1.__\n",
    "\n",
    "Обучите реализации градиентного бустинга LightGBM и Catboost на **вещественных** признаках без подбора параметров. Сделайте предсказания для тестовой выборки, посчитайте MAE. Выведите модуль разности между значениями метрик LightGBM и Catboost. Ответ округлите до тысячных.\n",
    "\n",
    "В этом и последующих экспериментах советуем измерять время обучения моделей."
   ]
  },
  {
   "cell_type": "code",
   "execution_count": 1,
   "metadata": {
    "colab": {},
    "colab_type": "code",
    "id": "Jy8G6InQtDoH"
   },
   "outputs": [
    {
     "name": "stdout",
     "output_type": "stream",
     "text": [
      "Wall time: 0 ns\n"
     ]
    }
   ],
   "source": [
    "%%time\n"
   ]
  },
  {
   "cell_type": "code",
   "execution_count": 23,
   "metadata": {},
   "outputs": [
    {
     "data": {
      "text/html": [
       "<div>\n",
       "<style scoped>\n",
       "    .dataframe tbody tr th:only-of-type {\n",
       "        vertical-align: middle;\n",
       "    }\n",
       "\n",
       "    .dataframe tbody tr th {\n",
       "        vertical-align: top;\n",
       "    }\n",
       "\n",
       "    .dataframe thead th {\n",
       "        text-align: right;\n",
       "    }\n",
       "</style>\n",
       "<table border=\"1\" class=\"dataframe\">\n",
       "  <thead>\n",
       "    <tr style=\"text-align: right;\">\n",
       "      <th></th>\n",
       "      <th>agent_fee</th>\n",
       "      <th>floor</th>\n",
       "      <th>floors_total</th>\n",
       "      <th>kitchen_area</th>\n",
       "      <th>living_area</th>\n",
       "      <th>price</th>\n",
       "      <th>rooms_offered</th>\n",
       "      <th>total_area</th>\n",
       "      <th>total_images</th>\n",
       "    </tr>\n",
       "  </thead>\n",
       "  <tbody>\n",
       "    <tr>\n",
       "      <th>0</th>\n",
       "      <td>60.0</td>\n",
       "      <td>7</td>\n",
       "      <td>9.0</td>\n",
       "      <td>9.0</td>\n",
       "      <td>31.0</td>\n",
       "      <td>30000</td>\n",
       "      <td>2</td>\n",
       "      <td>48.0</td>\n",
       "      <td>12</td>\n",
       "    </tr>\n",
       "    <tr>\n",
       "      <th>1</th>\n",
       "      <td>50.0</td>\n",
       "      <td>5</td>\n",
       "      <td>17.0</td>\n",
       "      <td>-1.0</td>\n",
       "      <td>-1.0</td>\n",
       "      <td>55000</td>\n",
       "      <td>2</td>\n",
       "      <td>60.0</td>\n",
       "      <td>12</td>\n",
       "    </tr>\n",
       "    <tr>\n",
       "      <th>2</th>\n",
       "      <td>50.0</td>\n",
       "      <td>8</td>\n",
       "      <td>17.0</td>\n",
       "      <td>12.0</td>\n",
       "      <td>-1.0</td>\n",
       "      <td>45000</td>\n",
       "      <td>2</td>\n",
       "      <td>68.0</td>\n",
       "      <td>13</td>\n",
       "    </tr>\n",
       "    <tr>\n",
       "      <th>3</th>\n",
       "      <td>60.0</td>\n",
       "      <td>7</td>\n",
       "      <td>16.0</td>\n",
       "      <td>10.0</td>\n",
       "      <td>20.0</td>\n",
       "      <td>25000</td>\n",
       "      <td>1</td>\n",
       "      <td>40.0</td>\n",
       "      <td>12</td>\n",
       "    </tr>\n",
       "    <tr>\n",
       "      <th>4</th>\n",
       "      <td>50.0</td>\n",
       "      <td>7</td>\n",
       "      <td>14.0</td>\n",
       "      <td>8.0</td>\n",
       "      <td>30.0</td>\n",
       "      <td>50000</td>\n",
       "      <td>2</td>\n",
       "      <td>40.0</td>\n",
       "      <td>16</td>\n",
       "    </tr>\n",
       "  </tbody>\n",
       "</table>\n",
       "</div>"
      ],
      "text/plain": [
       "   agent_fee  floor  floors_total  kitchen_area  living_area  price  \\\n",
       "0       60.0      7           9.0           9.0         31.0  30000   \n",
       "1       50.0      5          17.0          -1.0         -1.0  55000   \n",
       "2       50.0      8          17.0          12.0         -1.0  45000   \n",
       "3       60.0      7          16.0          10.0         20.0  25000   \n",
       "4       50.0      7          14.0           8.0         30.0  50000   \n",
       "\n",
       "   rooms_offered  total_area  total_images  \n",
       "0              2        48.0            12  \n",
       "1              2        60.0            12  \n",
       "2              2        68.0            13  \n",
       "3              1        40.0            12  \n",
       "4              2        40.0            16  "
      ]
     },
     "execution_count": 23,
     "metadata": {},
     "output_type": "execute_result"
    }
   ],
   "source": [
    "X_train[num_features].head()"
   ]
  },
  {
   "cell_type": "code",
   "execution_count": 22,
   "metadata": {},
   "outputs": [
    {
     "data": {
      "text/html": [
       "<div>\n",
       "<style scoped>\n",
       "    .dataframe tbody tr th:only-of-type {\n",
       "        vertical-align: middle;\n",
       "    }\n",
       "\n",
       "    .dataframe tbody tr th {\n",
       "        vertical-align: top;\n",
       "    }\n",
       "\n",
       "    .dataframe thead th {\n",
       "        text-align: right;\n",
       "    }\n",
       "</style>\n",
       "<table border=\"1\" class=\"dataframe\">\n",
       "  <thead>\n",
       "    <tr style=\"text-align: right;\">\n",
       "      <th></th>\n",
       "      <th>balcony</th>\n",
       "      <th>building_type</th>\n",
       "      <th>month</th>\n",
       "      <th>renovation</th>\n",
       "      <th>studio</th>\n",
       "    </tr>\n",
       "  </thead>\n",
       "  <tbody>\n",
       "    <tr>\n",
       "      <th>0</th>\n",
       "      <td>0</td>\n",
       "      <td>4</td>\n",
       "      <td>June</td>\n",
       "      <td>0</td>\n",
       "      <td>False</td>\n",
       "    </tr>\n",
       "    <tr>\n",
       "      <th>1</th>\n",
       "      <td>0</td>\n",
       "      <td>4</td>\n",
       "      <td>June</td>\n",
       "      <td>0</td>\n",
       "      <td>False</td>\n",
       "    </tr>\n",
       "    <tr>\n",
       "      <th>2</th>\n",
       "      <td>0</td>\n",
       "      <td>4</td>\n",
       "      <td>June</td>\n",
       "      <td>0</td>\n",
       "      <td>False</td>\n",
       "    </tr>\n",
       "    <tr>\n",
       "      <th>3</th>\n",
       "      <td>0</td>\n",
       "      <td>6</td>\n",
       "      <td>June</td>\n",
       "      <td>0</td>\n",
       "      <td>False</td>\n",
       "    </tr>\n",
       "    <tr>\n",
       "      <th>4</th>\n",
       "      <td>0</td>\n",
       "      <td>1</td>\n",
       "      <td>June</td>\n",
       "      <td>0</td>\n",
       "      <td>False</td>\n",
       "    </tr>\n",
       "  </tbody>\n",
       "</table>\n",
       "</div>"
      ],
      "text/plain": [
       "   balcony  building_type month  renovation  studio\n",
       "0        0              4  June           0   False\n",
       "1        0              4  June           0   False\n",
       "2        0              4  June           0   False\n",
       "3        0              6  June           0   False\n",
       "4        0              1  June           0   False"
      ]
     },
     "execution_count": 22,
     "metadata": {},
     "output_type": "execute_result"
    }
   ],
   "source": [
    "X_train[cat_features].head()"
   ]
  },
  {
   "cell_type": "code",
   "execution_count": null,
   "metadata": {},
   "outputs": [],
   "source": []
  },
  {
   "cell_type": "code",
   "execution_count": 10,
   "metadata": {},
   "outputs": [
    {
     "name": "stdout",
     "output_type": "stream",
     "text": [
      "Wall time: 1.03 s\n"
     ]
    },
    {
     "data": {
      "text/plain": [
       "36.498598720526246"
      ]
     },
     "execution_count": 10,
     "metadata": {},
     "output_type": "execute_result"
    }
   ],
   "source": [
    "%%time\n",
    "\n",
    "lightCLF = lightgbm.LGBMRegressor()\n",
    "lightCLF.fit(X_train[num_features], y_train)\n",
    "lightMAE = mean_absolute_error(y_test, lightCLF.predict(X_test[num_features]))\n",
    "lightMAE"
   ]
  },
  {
   "cell_type": "code",
   "execution_count": 11,
   "metadata": {},
   "outputs": [
    {
     "name": "stdout",
     "output_type": "stream",
     "text": [
      "Wall time: 22.2 s\n"
     ]
    },
    {
     "data": {
      "text/plain": [
       "36.35187053009413"
      ]
     },
     "execution_count": 11,
     "metadata": {},
     "output_type": "execute_result"
    }
   ],
   "source": [
    "%%time\n",
    "catCLF = catboost.CatBoostRegressor(logging_level='Silent')\n",
    "catCLF.fit(X_train[num_features], y_train)\n",
    "catMAE = mean_absolute_error(y_test, catCLF.predict(X_test[num_features]))\n",
    "catMAE"
   ]
  },
  {
   "cell_type": "code",
   "execution_count": 12,
   "metadata": {},
   "outputs": [
    {
     "data": {
      "text/plain": [
       "0.147"
      ]
     },
     "execution_count": 12,
     "metadata": {},
     "output_type": "execute_result"
    }
   ],
   "source": [
    "round(abs(lightMAE-catMAE), 3)"
   ]
  },
  {
   "cell_type": "markdown",
   "metadata": {
    "colab_type": "text",
    "id": "-cRmOnhMB4ob"
   },
   "source": [
    "__Задание 2.__\n",
    "\n",
    "Подберите оптимальные параметры для Catboost на вещественных признаках,  используя все доступные комбинации из:\n",
    "\n",
    "* глубины деревьев {5, 7, 9};\n",
    "* темпа обучения {0.05, 0.1, 0.5}.\n",
    "\n",
    "В качестве оптимизируемого функционала в алгоритме используйте MAE (loss_function='MAE'), random_seed=0, другие параметры оставьте без изменений.\n",
    "\n",
    "Сделайте предсказания для тестовой выборки лучшей моделью, вычислите MAE."
   ]
  },
  {
   "cell_type": "code",
   "execution_count": 27,
   "metadata": {},
   "outputs": [],
   "source": [
    "import numpy as np"
   ]
  },
  {
   "cell_type": "code",
   "execution_count": 15,
   "metadata": {},
   "outputs": [
    {
     "name": "stdout",
     "output_type": "stream",
     "text": [
      "Wall time: 5min 30s\n"
     ]
    }
   ],
   "source": [
    "%%time\n",
    "\n",
    "depth_params = [5, 7, 9]\n",
    "rates_params = [0.05, 0.1, 0.5]\n",
    "\n",
    "results = []\n",
    "\n",
    "for depth in depth_params:\n",
    "    for rate in rates_params:\n",
    "        estimator = catboost.CatBoostRegressor(max_depth =  depth, learning_rate = rate, random_seed = 0,  logging_level = 'Silent', loss_function = 'MAE')\n",
    "        estimator.fit(X_train[num_features], y_train)\n",
    "        mae = mean_absolute_error(y_test, estimator.predict(X_test[num_features]))\n",
    "        results.append([depth, rate, mae])\n"
   ]
  },
  {
   "cell_type": "code",
   "execution_count": 16,
   "metadata": {},
   "outputs": [
    {
     "name": "stdout",
     "output_type": "stream",
     "text": [
      "[5, 0.05, 31.641329495403955]\n",
      "[5, 0.1, 31.666597555668933]\n",
      "[5, 0.5, 32.03449635593659]\n",
      "[7, 0.05, 31.65088635072659]\n",
      "[7, 0.1, 31.718876336853853]\n",
      "[7, 0.5, 32.20464448102391]\n",
      "[9, 0.05, 31.699908737773335]\n",
      "[9, 0.1, 31.81082673689335]\n",
      "[9, 0.5, 32.980140337677646]\n"
     ]
    }
   ],
   "source": [
    "for result in results:\n",
    "    print(result)"
   ]
  },
  {
   "cell_type": "markdown",
   "metadata": {
    "colab_type": "text",
    "id": "sdZOQT6iB4of"
   },
   "source": [
    "__Задание 3.__\n",
    "\n",
    "Пока что мы использовали только вещественные данные, однако категориальные переменные также могут быть полезны для решения задачи. Перебирая комбинации параметров из предыдущего пункта, используйте все доступные признаки, обрабатывая категориальные встроенным методом Catboost.\n",
    "\n",
    "Выведите значение MAE на тестовой выборке для лучшей модели."
   ]
  },
  {
   "cell_type": "code",
   "execution_count": 32,
   "metadata": {
    "colab": {},
    "colab_type": "code",
    "id": "RPmcsGd6s_Uq"
   },
   "outputs": [
    {
     "name": "stdout",
     "output_type": "stream",
     "text": [
      "Wall time: 18min 46s\n"
     ]
    }
   ],
   "source": [
    "%%time\n",
    "results = []\n",
    "\n",
    "for depth in depth_params:\n",
    "    for rate in rates_params:\n",
    "        estimator = catboost.CatBoostRegressor(max_depth=depth, learning_rate=rate, random_seed=0,  logging_level='Silent', loss_function='MAE')\n",
    "        estimator.fit(X_train, y_train, cat_features=cat_features)\n",
    "        mae = mean_absolute_error(y_test, estimator.predict(X_test))\n",
    "        results.append([depth, rate, mae])"
   ]
  },
  {
   "cell_type": "code",
   "execution_count": 33,
   "metadata": {},
   "outputs": [
    {
     "name": "stdout",
     "output_type": "stream",
     "text": [
      "[5, 0.05, 32.3722251326191]\n",
      "[5, 0.1, 34.930778136450144]\n",
      "[5, 0.5, 36.91337869277467]\n",
      "[7, 0.05, 32.81788765740183]\n",
      "[7, 0.1, 34.48198449635924]\n",
      "[7, 0.5, 42.54822213650881]\n",
      "[9, 0.05, 34.5786073876299]\n",
      "[9, 0.1, 36.20209330451235]\n",
      "[9, 0.5, 44.83007795462268]\n"
     ]
    }
   ],
   "source": [
    "for result in results:\n",
    "    print(result)"
   ]
  },
  {
   "cell_type": "markdown",
   "metadata": {
    "colab_type": "text",
    "id": "VtW2FkMRB4ol"
   },
   "source": [
    "__Задание 4.__\n",
    "\n",
    "Реализуйте блендинг (получение ответов нескольких моделей и взятие их с весами (их нужно подбирать на обучающей выборке)) полученных в заданиях 2 и 3 моделей и выведите MAE на тестовой выборке.\n",
    "\n",
    "Обратите внимание: в этом задании нет ограничений на веса у моделей."
   ]
  },
  {
   "cell_type": "code",
   "execution_count": 34,
   "metadata": {
    "colab": {
     "base_uri": "https://localhost:8080/",
     "height": 34
    },
    "colab_type": "code",
    "id": "oUEVoJspB4om",
    "outputId": "82679543-c52a-420d-8933-1dd0bef20065"
   },
   "outputs": [],
   "source": [
    "from sklearn.linear_model import LinearRegression"
   ]
  },
  {
   "cell_type": "code",
   "execution_count": 35,
   "metadata": {},
   "outputs": [],
   "source": [
    "#LinearRegression(copy_X=True, fit_intercept=True, n_jobs=None, normalize=False)",
    
    
    "def weights(y_true, Y1, Y2):\n",
    "    metric = []\n",
    "    grid = np.linspace(0, 1, 1000)\n",
    "    for weight0 in grid:\n",
    
    "      weight1 = 1 - weight0\n",
    
    "      y = Y1 * weight0 + Y2 * weight1\n",
    "\n",
    "      metric.append([rmse(y_true, y), weight0, weight1])\n",
    "\n",
    "    return metric"
   ]
  },
  {
   "cell_type": "markdown",
   "metadata": {
    "colab_type": "text",
    "id": "BVHeePb_B4op"
   },
   "source": [
    "__Задание 5.__\n",
    "\n",
    "В задании 3 вы подобрали гиперпараметры для CatBoost на всех признаках. Визуализируйте их важности в виде горизонтального bar-plot (отсортируйте признаки по убыванию важности, подпишите названия признаков по оси y).\n",
    "\n",
    "Для каждого из двух алгоритмов удалите неважные признаки (значения менее 0.05; обычно по bar-plot хорошо видно порог, с которого начинается хвост неважных признаков) и обучите модель с теми же параметрами на оставшихся признаках. Выведите разность между значениями MAE на тестовой выборке до и после удаления признаков."
   ]
  },
  {
   "cell_type": "code",
   "execution_count": 11,
   "metadata": {
    "colab": {},
    "colab_type": "code",
    "id": "qT_hIbiEB4oq"
   },
   "outputs": [
    {
     "name": "stdout",
     "output_type": "stream",
     "text": [
      "mae: 32.3722251326191\n"
     ]
    }
   ],
   "source": [
    "estimator = catboost.CatBoostRegressor(max_depth = 5, learning_rate = 0.05, random_seed = 0,  logging_level = 'Silent', loss_function = 'MAE')\n",
    "estimator.fit(X_train, y_train, cat_features = cat_features)\n",
    "print(f\"mae: {mean_absolute_error(y_test, estimator.predict(X_test))}\")"
   ]
  },
  {
   "cell_type": "code",
   "execution_count": 13,
   "metadata": {},
   "outputs": [
    {
     "name": "stdout",
     "output_type": "stream",
     "text": [
      "['agent_fee', 'floor', 'floors_total', 'kitchen_area', 'living_area', 'price', 'rooms_offered', 'total_area', 'total_images', 'balcony', 'building_type', 'month', 'renovation', 'studio']\n"
     ]
    },
    {
     "data": {
      "text/plain": [
       "array([17.34436089,  0.49708245,  0.74474754, 11.31970037,  7.03450376,\n",
       "       12.03881981,  0.47959563,  3.87594468,  5.58370211,  1.20354311,\n",
       "        1.74517022, 20.27755389, 17.85527554,  0.        ])"
      ]
     },
     "execution_count": 13,
     "metadata": {},
     "output_type": "execute_result"
    }
   ],
   "source": [
    "print(num_features+cat_features)\n",
    "estimator.feature_importances_"
   ]
  },
  {
   "cell_type": "code",
   "execution_count": 14,
   "metadata": {},
   "outputs": [
    {
     "data": {
      "text/plain": [
       "0.5067856709724126"
      ]
     },
     "execution_count": 14,
     "metadata": {},
     "output_type": "execute_result"
    }
   ],
   "source": [
    "estimator = catboost.CatBoostRegressor(max_depth = 5, learning_rate = 0.05, random_seed = 0,  \n",
    "                                       logging_level = 'Silent', loss_function = 'MAE')\n",
    
    "estimator.fit(X_train.drop(['studio'], axis = 1), y_train, cat_features = ['balcony', 'building_type', 'month', 'renovation'])\n",
    
    "abs(mean_absolute_error(y_test, estimator.predict(X_test.drop(['studio'], axis = 1))) -32.3722251326191)"
   ]
  },
  {
   "cell_type": "code",
   "execution_count": null,
   "metadata": {},
   "outputs": [],
   "source": []
  }
 ],
 "metadata": {
  "colab": {
   "collapsed_sections": [],
   "name": "hw09.ipynb",
   "provenance": []
  },
  "kernelspec": {
   "display_name": "Python 3",
   "language": "python",
   "name": "python3"
  },
  "language_info": {
   "codemirror_mode": {
    "name": "ipython",
    "version": 3
   },
   "file_extension": ".py",
   "mimetype": "text/x-python",
   "name": "python",
   "nbconvert_exporter": "python",
   "pygments_lexer": "ipython3",
   "version": "3.7.7"
  }
 },
 "nbformat": 4,
 "nbformat_minor": 1
}
